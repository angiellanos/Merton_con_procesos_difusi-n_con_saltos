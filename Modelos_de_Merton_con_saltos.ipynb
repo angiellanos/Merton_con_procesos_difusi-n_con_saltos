{
  "nbformat": 4,
  "nbformat_minor": 0,
  "metadata": {
    "colab": {
      "provenance": [],
      "include_colab_link": true
    },
    "kernelspec": {
      "name": "python3",
      "display_name": "Python 3"
    },
    "language_info": {
      "name": "python"
    }
  },
  "cells": [
    {
      "cell_type": "markdown",
      "metadata": {
        "id": "view-in-github",
        "colab_type": "text"
      },
      "source": [
        "<a href=\"https://colab.research.google.com/github/angiellanos/Merton_con_procesos_difusi-n_con_saltos/blob/main/Modelos_de_Merton_con_saltos.ipynb\" target=\"_parent\"><img src=\"https://colab.research.google.com/assets/colab-badge.svg\" alt=\"Open In Colab\"/></a>"
      ]
    },
    {
      "cell_type": "markdown",
      "source": [
        "# **MODELOS DE MERTON CON PROCESOS DE DIFUSIÓN CON SALTOS**\n",
        "## **Universidad Nacional de Colombia**\n",
        "# Derivados de Renta Variable\n",
        "---\n",
        "Elaborado por:\n",
        "###Angie Eloisa Llanos\n",
        "###Brayan Arturo Camargo\n",
        "###Camilo Andres Figueroa\n",
        "---\n",
        "\n"
      ],
      "metadata": {
        "id": "GdcYKtMKKhfL"
      }
    },
    {
      "cell_type": "markdown",
      "source": [
        "# 1. **Introducción**"
      ],
      "metadata": {
        "id": "9X8lV3oVL1zs"
      }
    },
    {
      "cell_type": "code",
      "source": [],
      "metadata": {
        "id": "4HcTTNZyKjfS"
      },
      "execution_count": null,
      "outputs": []
    }
  ]
}